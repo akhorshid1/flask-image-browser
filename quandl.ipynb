{
 "cells": [
  {
   "cell_type": "code",
   "execution_count": 1,
   "metadata": {
    "collapsed": true
   },
   "outputs": [],
   "source": [
    "import requests"
   ]
  },
  {
   "cell_type": "code",
   "execution_count": 2,
   "metadata": {
    "collapsed": true
   },
   "outputs": [],
   "source": [
    "import pandas as pd"
   ]
  },
  {
   "cell_type": "code",
   "execution_count": 3,
   "metadata": {
    "collapsed": true
   },
   "outputs": [],
   "source": [
    "from datetime import date"
   ]
  },
  {
   "cell_type": "code",
   "execution_count": 4,
   "metadata": {
    "collapsed": true
   },
   "outputs": [],
   "source": [
    "from dateutil.relativedelta import relativedelta"
   ]
  },
  {
   "cell_type": "code",
   "execution_count": 5,
   "metadata": {
    "collapsed": true
   },
   "outputs": [],
   "source": [
    "from bokeh.plotting import figure, show, output_notebook"
   ]
  },
  {
   "cell_type": "code",
   "execution_count": 6,
   "metadata": {
    "collapsed": true
   },
   "outputs": [],
   "source": [
    "from bokeh.models import ColumnDataSource, DatetimeTickFormatter, \\\n",
    "    Range1d, HoverTool, CrosshairTool"
   ]
  },
  {
   "cell_type": "code",
   "execution_count": 7,
   "metadata": {
    "collapsed": true
   },
   "outputs": [],
   "source": [
    "apikey = \"E456SMCHeyee8d_sF4Sv\""
   ]
  },
  {
   "cell_type": "code",
   "execution_count": 8,
   "metadata": {
    "collapsed": true
   },
   "outputs": [],
   "source": [
    "urlhead = \"https://www.quandl.com/api/v3/datatables/WIKI/PRICES.json?ticker=\"\n",
    "urldate = \"&date.gte=\"\n",
    "urlcols = \"&qopts.columns=\"\n",
    "urltail = \"&api_key=\" + apikey"
   ]
  },
  {
   "cell_type": "code",
   "execution_count": 9,
   "metadata": {
    "collapsed": true
   },
   "outputs": [],
   "source": [
    "monthago = date.today() + relativedelta(months=-1)\n",
    "date = monthago.strftime(\"%Y%m%d\")"
   ]
  },
  {
   "cell_type": "code",
   "execution_count": 10,
   "metadata": {
    "collapsed": true
   },
   "outputs": [],
   "source": [
    "cols = \"date,close\""
   ]
  },
  {
   "cell_type": "code",
   "execution_count": 12,
   "metadata": {
    "collapsed": true
   },
   "outputs": [],
   "source": [
    "def plot_ticker(ticker):\n",
    "    # Retrieve and process data\n",
    "    url = urlhead + ticker + urldate + date + urlcols + cols + urltail\n",
    "    page = requests.get(url)\n",
    "    json = page.json()\n",
    "    df = pd.DataFrame(json['datatable']['data'], columns=['date','close'])\n",
    "    df['date'] = pd.to_datetime(df['date'])\n",
    "    df['date_str'] = df['date'].map(lambda x: x.strftime(\"%Y-%m-%d\"))\n",
    "    dfcds = ColumnDataSource(df)\n",
    "    \n",
    "    # Create Bokeh plot\n",
    "    p = figure(width=600, height=300, title=ticker.upper(), tools=\"\")\n",
    "\n",
    "    hover = HoverTool(tooltips = [\n",
    "        ('Date', '@date_str'),\n",
    "        ('Close', '@close')\n",
    "    ])\n",
    "    hover.mode = 'vline'\n",
    "    hover.line_policy = 'nearest'\n",
    "    p.add_tools(hover)\n",
    "\n",
    "    crosshair = CrosshairTool()\n",
    "    crosshair.dimensions = 'height'\n",
    "    p.add_tools(crosshair)\n",
    "\n",
    "    p.line('date', 'close', source = dfcds)\n",
    "\n",
    "    p.xaxis.formatter=DatetimeTickFormatter(days=[\"%d %b\"])\n",
    "    p.x_range=Range1d(df['date'].min(), df['date'].max())\n",
    "\n",
    "    p.toolbar.logo = None\n",
    "    p.toolbar_location = None\n",
    "\n",
    "    return p"
   ]
  },
  {
   "cell_type": "code",
   "execution_count": 13,
   "metadata": {},
   "outputs": [
    {
     "data": {
      "text/html": [
       "\n",
       "    <div class=\"bk-root\">\n",
       "        <a href=\"http://bokeh.pydata.org\" target=\"_blank\" class=\"bk-logo bk-logo-small bk-logo-notebook\"></a>\n",
       "        <span id=\"078b6111-0f35-4a3f-85d0-e6b206b8d7c9\">Loading BokehJS ...</span>\n",
       "    </div>"
      ]
     },
     "metadata": {},
     "output_type": "display_data"
    },
    {
     "data": {
      "application/javascript": [
       "\n",
       "(function(global) {\n",
       "  function now() {\n",
       "    return new Date();\n",
       "  }\n",
       "\n",
       "  var force = true;\n",
       "\n",
       "  if (typeof (window._bokeh_onload_callbacks) === \"undefined\" || force === true) {\n",
       "    window._bokeh_onload_callbacks = [];\n",
       "    window._bokeh_is_loading = undefined;\n",
       "  }\n",
       "\n",
       "\n",
       "  \n",
       "  if (typeof (window._bokeh_timeout) === \"undefined\" || force === true) {\n",
       "    window._bokeh_timeout = Date.now() + 5000;\n",
       "    window._bokeh_failed_load = false;\n",
       "  }\n",
       "\n",
       "  var NB_LOAD_WARNING = {'data': {'text/html':\n",
       "     \"<div style='background-color: #fdd'>\\n\"+\n",
       "     \"<p>\\n\"+\n",
       "     \"BokehJS does not appear to have successfully loaded. If loading BokehJS from CDN, this \\n\"+\n",
       "     \"may be due to a slow or bad network connection. Possible fixes:\\n\"+\n",
       "     \"</p>\\n\"+\n",
       "     \"<ul>\\n\"+\n",
       "     \"<li>re-rerun `output_notebook()` to attempt to load from CDN again, or</li>\\n\"+\n",
       "     \"<li>use INLINE resources instead, as so:</li>\\n\"+\n",
       "     \"</ul>\\n\"+\n",
       "     \"<code>\\n\"+\n",
       "     \"from bokeh.resources import INLINE\\n\"+\n",
       "     \"output_notebook(resources=INLINE)\\n\"+\n",
       "     \"</code>\\n\"+\n",
       "     \"</div>\"}};\n",
       "\n",
       "  function display_loaded() {\n",
       "    if (window.Bokeh !== undefined) {\n",
       "      var el = document.getElementById(\"078b6111-0f35-4a3f-85d0-e6b206b8d7c9\");\n",
       "      el.textContent = \"BokehJS \" + Bokeh.version + \" successfully loaded.\";\n",
       "    } else if (Date.now() < window._bokeh_timeout) {\n",
       "      setTimeout(display_loaded, 100)\n",
       "    }\n",
       "  }\n",
       "\n",
       "  function run_callbacks() {\n",
       "    window._bokeh_onload_callbacks.forEach(function(callback) { callback() });\n",
       "    delete window._bokeh_onload_callbacks\n",
       "    console.info(\"Bokeh: all callbacks have finished\");\n",
       "  }\n",
       "\n",
       "  function load_libs(js_urls, callback) {\n",
       "    window._bokeh_onload_callbacks.push(callback);\n",
       "    if (window._bokeh_is_loading > 0) {\n",
       "      console.log(\"Bokeh: BokehJS is being loaded, scheduling callback at\", now());\n",
       "      return null;\n",
       "    }\n",
       "    if (js_urls == null || js_urls.length === 0) {\n",
       "      run_callbacks();\n",
       "      return null;\n",
       "    }\n",
       "    console.log(\"Bokeh: BokehJS not loaded, scheduling load and callback at\", now());\n",
       "    window._bokeh_is_loading = js_urls.length;\n",
       "    for (var i = 0; i < js_urls.length; i++) {\n",
       "      var url = js_urls[i];\n",
       "      var s = document.createElement('script');\n",
       "      s.src = url;\n",
       "      s.async = false;\n",
       "      s.onreadystatechange = s.onload = function() {\n",
       "        window._bokeh_is_loading--;\n",
       "        if (window._bokeh_is_loading === 0) {\n",
       "          console.log(\"Bokeh: all BokehJS libraries loaded\");\n",
       "          run_callbacks()\n",
       "        }\n",
       "      };\n",
       "      s.onerror = function() {\n",
       "        console.warn(\"failed to load library \" + url);\n",
       "      };\n",
       "      console.log(\"Bokeh: injecting script tag for BokehJS library: \", url);\n",
       "      document.getElementsByTagName(\"head\")[0].appendChild(s);\n",
       "    }\n",
       "  };var element = document.getElementById(\"078b6111-0f35-4a3f-85d0-e6b206b8d7c9\");\n",
       "  if (element == null) {\n",
       "    console.log(\"Bokeh: ERROR: autoload.js configured with elementid '078b6111-0f35-4a3f-85d0-e6b206b8d7c9' but no matching script tag was found. \")\n",
       "    return false;\n",
       "  }\n",
       "\n",
       "  var js_urls = [\"https://cdn.pydata.org/bokeh/release/bokeh-0.12.5.min.js\", \"https://cdn.pydata.org/bokeh/release/bokeh-widgets-0.12.5.min.js\"];\n",
       "\n",
       "  var inline_js = [\n",
       "    function(Bokeh) {\n",
       "      Bokeh.set_log_level(\"info\");\n",
       "    },\n",
       "    \n",
       "    function(Bokeh) {\n",
       "      \n",
       "    },\n",
       "    \n",
       "    function(Bokeh) {\n",
       "      \n",
       "      document.getElementById(\"078b6111-0f35-4a3f-85d0-e6b206b8d7c9\").textContent = \"BokehJS is loading...\";\n",
       "    },\n",
       "    function(Bokeh) {\n",
       "      console.log(\"Bokeh: injecting CSS: https://cdn.pydata.org/bokeh/release/bokeh-0.12.5.min.css\");\n",
       "      Bokeh.embed.inject_css(\"https://cdn.pydata.org/bokeh/release/bokeh-0.12.5.min.css\");\n",
       "      console.log(\"Bokeh: injecting CSS: https://cdn.pydata.org/bokeh/release/bokeh-widgets-0.12.5.min.css\");\n",
       "      Bokeh.embed.inject_css(\"https://cdn.pydata.org/bokeh/release/bokeh-widgets-0.12.5.min.css\");\n",
       "    }\n",
       "  ];\n",
       "\n",
       "  function run_inline_js() {\n",
       "    \n",
       "    if ((window.Bokeh !== undefined) || (force === true)) {\n",
       "      for (var i = 0; i < inline_js.length; i++) {\n",
       "        inline_js[i](window.Bokeh);\n",
       "      }if (force === true) {\n",
       "        display_loaded();\n",
       "      }} else if (Date.now() < window._bokeh_timeout) {\n",
       "      setTimeout(run_inline_js, 100);\n",
       "    } else if (!window._bokeh_failed_load) {\n",
       "      console.log(\"Bokeh: BokehJS failed to load within specified timeout.\");\n",
       "      window._bokeh_failed_load = true;\n",
       "    } else if (force !== true) {\n",
       "      var cell = $(document.getElementById(\"078b6111-0f35-4a3f-85d0-e6b206b8d7c9\")).parents('.cell').data().cell;\n",
       "      cell.output_area.append_execute_result(NB_LOAD_WARNING)\n",
       "    }\n",
       "\n",
       "  }\n",
       "\n",
       "  if (window._bokeh_is_loading === 0) {\n",
       "    console.log(\"Bokeh: BokehJS loaded, going straight to plotting\");\n",
       "    run_inline_js();\n",
       "  } else {\n",
       "    load_libs(js_urls, function() {\n",
       "      console.log(\"Bokeh: BokehJS plotting callback run at\", now());\n",
       "      run_inline_js();\n",
       "    });\n",
       "  }\n",
       "}(this));"
      ]
     },
     "metadata": {},
     "output_type": "display_data"
    },
    {
     "name": "stderr",
     "output_type": "stream",
     "text": [
      "/home/mike/Documents/pyvenv/pydata2/lib/python2.7/site-packages/bokeh/core/json_encoder.py:73: FutureWarning: pandas.tslib is deprecated and will be removed in a future version.\n",
      "You can access Timestamp as pandas.Timestamp\n",
      "  if pd and isinstance(obj, pd.tslib.Timestamp):\n"
     ]
    },
    {
     "data": {
      "text/html": [
       "\n",
       "\n",
       "    <div class=\"bk-root\">\n",
       "        <div class=\"bk-plotdiv\" id=\"37e16c5b-cbb7-4d05-9b38-57d6af336a41\"></div>\n",
       "    </div>\n",
       "<script type=\"text/javascript\">\n",
       "  \n",
       "  (function(global) {\n",
       "    function now() {\n",
       "      return new Date();\n",
       "    }\n",
       "  \n",
       "    var force = false;\n",
       "  \n",
       "    if (typeof (window._bokeh_onload_callbacks) === \"undefined\" || force === true) {\n",
       "      window._bokeh_onload_callbacks = [];\n",
       "      window._bokeh_is_loading = undefined;\n",
       "    }\n",
       "  \n",
       "  \n",
       "    \n",
       "    if (typeof (window._bokeh_timeout) === \"undefined\" || force === true) {\n",
       "      window._bokeh_timeout = Date.now() + 0;\n",
       "      window._bokeh_failed_load = false;\n",
       "    }\n",
       "  \n",
       "    var NB_LOAD_WARNING = {'data': {'text/html':\n",
       "       \"<div style='background-color: #fdd'>\\n\"+\n",
       "       \"<p>\\n\"+\n",
       "       \"BokehJS does not appear to have successfully loaded. If loading BokehJS from CDN, this \\n\"+\n",
       "       \"may be due to a slow or bad network connection. Possible fixes:\\n\"+\n",
       "       \"</p>\\n\"+\n",
       "       \"<ul>\\n\"+\n",
       "       \"<li>re-rerun `output_notebook()` to attempt to load from CDN again, or</li>\\n\"+\n",
       "       \"<li>use INLINE resources instead, as so:</li>\\n\"+\n",
       "       \"</ul>\\n\"+\n",
       "       \"<code>\\n\"+\n",
       "       \"from bokeh.resources import INLINE\\n\"+\n",
       "       \"output_notebook(resources=INLINE)\\n\"+\n",
       "       \"</code>\\n\"+\n",
       "       \"</div>\"}};\n",
       "  \n",
       "    function display_loaded() {\n",
       "      if (window.Bokeh !== undefined) {\n",
       "        var el = document.getElementById(\"37e16c5b-cbb7-4d05-9b38-57d6af336a41\");\n",
       "        el.textContent = \"BokehJS \" + Bokeh.version + \" successfully loaded.\";\n",
       "      } else if (Date.now() < window._bokeh_timeout) {\n",
       "        setTimeout(display_loaded, 100)\n",
       "      }\n",
       "    }\n",
       "  \n",
       "    function run_callbacks() {\n",
       "      window._bokeh_onload_callbacks.forEach(function(callback) { callback() });\n",
       "      delete window._bokeh_onload_callbacks\n",
       "      console.info(\"Bokeh: all callbacks have finished\");\n",
       "    }\n",
       "  \n",
       "    function load_libs(js_urls, callback) {\n",
       "      window._bokeh_onload_callbacks.push(callback);\n",
       "      if (window._bokeh_is_loading > 0) {\n",
       "        console.log(\"Bokeh: BokehJS is being loaded, scheduling callback at\", now());\n",
       "        return null;\n",
       "      }\n",
       "      if (js_urls == null || js_urls.length === 0) {\n",
       "        run_callbacks();\n",
       "        return null;\n",
       "      }\n",
       "      console.log(\"Bokeh: BokehJS not loaded, scheduling load and callback at\", now());\n",
       "      window._bokeh_is_loading = js_urls.length;\n",
       "      for (var i = 0; i < js_urls.length; i++) {\n",
       "        var url = js_urls[i];\n",
       "        var s = document.createElement('script');\n",
       "        s.src = url;\n",
       "        s.async = false;\n",
       "        s.onreadystatechange = s.onload = function() {\n",
       "          window._bokeh_is_loading--;\n",
       "          if (window._bokeh_is_loading === 0) {\n",
       "            console.log(\"Bokeh: all BokehJS libraries loaded\");\n",
       "            run_callbacks()\n",
       "          }\n",
       "        };\n",
       "        s.onerror = function() {\n",
       "          console.warn(\"failed to load library \" + url);\n",
       "        };\n",
       "        console.log(\"Bokeh: injecting script tag for BokehJS library: \", url);\n",
       "        document.getElementsByTagName(\"head\")[0].appendChild(s);\n",
       "      }\n",
       "    };var element = document.getElementById(\"37e16c5b-cbb7-4d05-9b38-57d6af336a41\");\n",
       "    if (element == null) {\n",
       "      console.log(\"Bokeh: ERROR: autoload.js configured with elementid '37e16c5b-cbb7-4d05-9b38-57d6af336a41' but no matching script tag was found. \")\n",
       "      return false;\n",
       "    }\n",
       "  \n",
       "    var js_urls = [];\n",
       "  \n",
       "    var inline_js = [\n",
       "      function(Bokeh) {\n",
       "        (function() {\n",
       "          var fn = function() {\n",
       "            var docs_json = {\"85fc0b05-8b9e-4844-9eb1-a8345a29e7fa\":{\"roots\":{\"references\":[{\"attributes\":{\"below\":[{\"id\":\"75f06556-1b25-4228-839f-e1cfe138f1b6\",\"type\":\"LinearAxis\"}],\"left\":[{\"id\":\"d8477aaf-6bdb-4212-8292-7d5847e7a8cc\",\"type\":\"LinearAxis\"}],\"plot_height\":300,\"renderers\":[{\"id\":\"75f06556-1b25-4228-839f-e1cfe138f1b6\",\"type\":\"LinearAxis\"},{\"id\":\"c25e2551-d2f6-448d-bd68-97f0c76e7577\",\"type\":\"Grid\"},{\"id\":\"d8477aaf-6bdb-4212-8292-7d5847e7a8cc\",\"type\":\"LinearAxis\"},{\"id\":\"bfeef74d-9b1b-4a2c-b233-74516d1751e8\",\"type\":\"Grid\"},{\"id\":\"d54f4177-7532-419c-a8e1-63bfbcd24857\",\"type\":\"GlyphRenderer\"}],\"title\":{\"id\":\"fad937fd-b6aa-47c1-976d-ed8d1efee9dd\",\"type\":\"Title\"},\"tool_events\":{\"id\":\"1a27c580-6ca1-4296-9c9c-09fb8ddadf17\",\"type\":\"ToolEvents\"},\"toolbar\":{\"id\":\"16faccf5-4f87-43d3-b722-f6e8b5c5077e\",\"type\":\"Toolbar\"},\"toolbar_location\":null,\"x_range\":{\"id\":\"da6905d6-a910-4b6b-91c8-3ac9d39b9723\",\"type\":\"Range1d\"},\"y_range\":{\"id\":\"f82d5961-bf6a-42a5-a511-1f1c1b7a7f42\",\"type\":\"DataRange1d\"}},\"id\":\"fe360092-1b31-4efe-a07a-6d41bace4def\",\"subtype\":\"Figure\",\"type\":\"Plot\"},{\"attributes\":{},\"id\":\"c5b6ca25-113c-4516-a96b-d399e0d9c0ba\",\"type\":\"BasicTicker\"},{\"attributes\":{\"callback\":null,\"end\":1496880000000.0,\"start\":1494288000000.0},\"id\":\"da6905d6-a910-4b6b-91c8-3ac9d39b9723\",\"type\":\"Range1d\"},{\"attributes\":{\"dimensions\":\"height\",\"plot\":{\"id\":\"fe360092-1b31-4efe-a07a-6d41bace4def\",\"subtype\":\"Figure\",\"type\":\"Plot\"}},\"id\":\"f1797faa-e6a9-4278-a7fa-274be9ccca0e\",\"type\":\"CrosshairTool\"},{\"attributes\":{\"formatter\":{\"id\":\"32de6d3d-ce33-4421-bf3d-85cd17c9a9f7\",\"type\":\"DatetimeTickFormatter\"},\"plot\":{\"id\":\"fe360092-1b31-4efe-a07a-6d41bace4def\",\"subtype\":\"Figure\",\"type\":\"Plot\"},\"ticker\":{\"id\":\"2404b6fd-6510-47c3-8202-bec8e7b357d1\",\"type\":\"BasicTicker\"}},\"id\":\"75f06556-1b25-4228-839f-e1cfe138f1b6\",\"type\":\"LinearAxis\"},{\"attributes\":{\"plot\":null,\"text\":\"GOOG\"},\"id\":\"fad937fd-b6aa-47c1-976d-ed8d1efee9dd\",\"type\":\"Title\"},{\"attributes\":{\"line_color\":{\"value\":\"#1f77b4\"},\"x\":{\"field\":\"date\"},\"y\":{\"field\":\"close\"}},\"id\":\"a2824c8a-e0d5-43cb-b723-7f6af1891bac\",\"type\":\"Line\"},{\"attributes\":{\"data_source\":{\"id\":\"411b4a1f-8f97-4d3a-8780-938acdd3916f\",\"type\":\"ColumnDataSource\"},\"glyph\":{\"id\":\"a2824c8a-e0d5-43cb-b723-7f6af1891bac\",\"type\":\"Line\"},\"hover_glyph\":null,\"muted_glyph\":null,\"nonselection_glyph\":{\"id\":\"dfed45f2-19e2-4fe0-8c38-26b0d886c520\",\"type\":\"Line\"},\"selection_glyph\":null},\"id\":\"d54f4177-7532-419c-a8e1-63bfbcd24857\",\"type\":\"GlyphRenderer\"},{\"attributes\":{},\"id\":\"1a27c580-6ca1-4296-9c9c-09fb8ddadf17\",\"type\":\"ToolEvents\"},{\"attributes\":{},\"id\":\"2404b6fd-6510-47c3-8202-bec8e7b357d1\",\"type\":\"BasicTicker\"},{\"attributes\":{\"formatter\":{\"id\":\"124fbeda-85e7-4101-b2a4-b88b2d0a93bc\",\"type\":\"BasicTickFormatter\"},\"plot\":{\"id\":\"fe360092-1b31-4efe-a07a-6d41bace4def\",\"subtype\":\"Figure\",\"type\":\"Plot\"},\"ticker\":{\"id\":\"c5b6ca25-113c-4516-a96b-d399e0d9c0ba\",\"type\":\"BasicTicker\"}},\"id\":\"d8477aaf-6bdb-4212-8292-7d5847e7a8cc\",\"type\":\"LinearAxis\"},{\"attributes\":{\"callback\":null,\"mode\":\"vline\",\"plot\":{\"id\":\"fe360092-1b31-4efe-a07a-6d41bace4def\",\"subtype\":\"Figure\",\"type\":\"Plot\"},\"tooltips\":[[\"Date\",\"@date_str\"],[\"Close\",\"@close\"]]},\"id\":\"f0f260f3-0962-4050-b898-5f6553c23fac\",\"type\":\"HoverTool\"},{\"attributes\":{\"days\":[\"%d %b\"]},\"id\":\"32de6d3d-ce33-4421-bf3d-85cd17c9a9f7\",\"type\":\"DatetimeTickFormatter\"},{\"attributes\":{\"plot\":{\"id\":\"fe360092-1b31-4efe-a07a-6d41bace4def\",\"subtype\":\"Figure\",\"type\":\"Plot\"},\"ticker\":{\"id\":\"2404b6fd-6510-47c3-8202-bec8e7b357d1\",\"type\":\"BasicTicker\"}},\"id\":\"c25e2551-d2f6-448d-bd68-97f0c76e7577\",\"type\":\"Grid\"},{\"attributes\":{\"dimension\":1,\"plot\":{\"id\":\"fe360092-1b31-4efe-a07a-6d41bace4def\",\"subtype\":\"Figure\",\"type\":\"Plot\"},\"ticker\":{\"id\":\"c5b6ca25-113c-4516-a96b-d399e0d9c0ba\",\"type\":\"BasicTicker\"}},\"id\":\"bfeef74d-9b1b-4a2c-b233-74516d1751e8\",\"type\":\"Grid\"},{\"attributes\":{},\"id\":\"124fbeda-85e7-4101-b2a4-b88b2d0a93bc\",\"type\":\"BasicTickFormatter\"},{\"attributes\":{\"active_drag\":\"auto\",\"active_scroll\":\"auto\",\"active_tap\":\"auto\",\"logo\":null,\"tools\":[{\"id\":\"f0f260f3-0962-4050-b898-5f6553c23fac\",\"type\":\"HoverTool\"},{\"id\":\"f1797faa-e6a9-4278-a7fa-274be9ccca0e\",\"type\":\"CrosshairTool\"}]},\"id\":\"16faccf5-4f87-43d3-b722-f6e8b5c5077e\",\"type\":\"Toolbar\"},{\"attributes\":{\"callback\":null,\"column_names\":[\"date\",\"close\",\"date_str\",\"index\"],\"data\":{\"close\":{\"__ndarray__\":\"j8L1KFwhjUAK16NwPQaNQM3MzMzMFI1A9ihcj8IhjUBxPQrXo0iNQAAAAAAAeI1AKVyPwvW8jEBSuB6F6xGNQK5H4XoUMI1AexSuR+FujUDD9Shcj6aNQEjhehSu141AuB6F61FMjkD2KFyPwluOQNejcD0Kf45AexSuR+EmjkCamZmZmTeOQM3MzMzMfI5APQrXo3C9jkDD9Shcj4SOQHE9CtejqI5A4XoUrke7jkA=\",\"dtype\":\"float64\",\"shape\":[22]},\"date\":{\"__ndarray__\":\"AABAFqi+dUIAAAB8+r51QgAAwOFMv3VCAACAR5+/dUIAAMB4lsB1QgAAgN7owHVCAABARDvBdUIAAACqjcF1QgAAwA/gwXVCAAAAQdfCdUIAAMCmKcN1QgAAgAx8w3VCAABAcs7DdUIAAADYIMR1QgAAAG9qxXVCAADA1LzFdUIAAIA6D8Z1QgAAQKBhxnVCAACA0VjHdUIAAEA3q8d1QgAAAJ39x3VCAADAAlDIdUI=\",\"dtype\":\"float64\",\"shape\":[22]},\"date_str\":[\"2017-05-09\",\"2017-05-10\",\"2017-05-11\",\"2017-05-12\",\"2017-05-15\",\"2017-05-16\",\"2017-05-17\",\"2017-05-18\",\"2017-05-19\",\"2017-05-22\",\"2017-05-23\",\"2017-05-24\",\"2017-05-25\",\"2017-05-26\",\"2017-05-30\",\"2017-05-31\",\"2017-06-01\",\"2017-06-02\",\"2017-06-05\",\"2017-06-06\",\"2017-06-07\",\"2017-06-08\"],\"index\":[0,1,2,3,4,5,6,7,8,9,10,11,12,13,14,15,16,17,18,19,20,21]}},\"id\":\"411b4a1f-8f97-4d3a-8780-938acdd3916f\",\"type\":\"ColumnDataSource\"},{\"attributes\":{\"line_alpha\":{\"value\":0.1},\"line_color\":{\"value\":\"#1f77b4\"},\"x\":{\"field\":\"date\"},\"y\":{\"field\":\"close\"}},\"id\":\"dfed45f2-19e2-4fe0-8c38-26b0d886c520\",\"type\":\"Line\"},{\"attributes\":{\"callback\":null},\"id\":\"f82d5961-bf6a-42a5-a511-1f1c1b7a7f42\",\"type\":\"DataRange1d\"}],\"root_ids\":[\"fe360092-1b31-4efe-a07a-6d41bace4def\"]},\"title\":\"Bokeh Application\",\"version\":\"0.12.5\"}};\n",
       "            var render_items = [{\"docid\":\"85fc0b05-8b9e-4844-9eb1-a8345a29e7fa\",\"elementid\":\"37e16c5b-cbb7-4d05-9b38-57d6af336a41\",\"modelid\":\"fe360092-1b31-4efe-a07a-6d41bace4def\"}];\n",
       "            \n",
       "            Bokeh.embed.embed_items(docs_json, render_items);\n",
       "          };\n",
       "          if (document.readyState != \"loading\") fn();\n",
       "          else document.addEventListener(\"DOMContentLoaded\", fn);\n",
       "        })();\n",
       "      },\n",
       "      function(Bokeh) {\n",
       "      }\n",
       "    ];\n",
       "  \n",
       "    function run_inline_js() {\n",
       "      \n",
       "      if ((window.Bokeh !== undefined) || (force === true)) {\n",
       "        for (var i = 0; i < inline_js.length; i++) {\n",
       "          inline_js[i](window.Bokeh);\n",
       "        }if (force === true) {\n",
       "          display_loaded();\n",
       "        }} else if (Date.now() < window._bokeh_timeout) {\n",
       "        setTimeout(run_inline_js, 100);\n",
       "      } else if (!window._bokeh_failed_load) {\n",
       "        console.log(\"Bokeh: BokehJS failed to load within specified timeout.\");\n",
       "        window._bokeh_failed_load = true;\n",
       "      } else if (force !== true) {\n",
       "        var cell = $(document.getElementById(\"37e16c5b-cbb7-4d05-9b38-57d6af336a41\")).parents('.cell').data().cell;\n",
       "        cell.output_area.append_execute_result(NB_LOAD_WARNING)\n",
       "      }\n",
       "  \n",
       "    }\n",
       "  \n",
       "    if (window._bokeh_is_loading === 0) {\n",
       "      console.log(\"Bokeh: BokehJS loaded, going straight to plotting\");\n",
       "      run_inline_js();\n",
       "    } else {\n",
       "      load_libs(js_urls, function() {\n",
       "        console.log(\"Bokeh: BokehJS plotting callback run at\", now());\n",
       "        run_inline_js();\n",
       "      });\n",
       "    }\n",
       "  }(this));\n",
       "</script>"
      ]
     },
     "metadata": {},
     "output_type": "display_data"
    }
   ],
   "source": [
    "output_notebook()\n",
    "fig = plot_ticker('goog')\n",
    "show(fig)"
   ]
  }
 ],
 "metadata": {
  "kernelspec": {
   "display_name": "Python 2",
   "language": "python",
   "name": "python2"
  },
  "language_info": {
   "codemirror_mode": {
    "name": "ipython",
    "version": 2
   },
   "file_extension": ".py",
   "mimetype": "text/x-python",
   "name": "python",
   "nbconvert_exporter": "python",
   "pygments_lexer": "ipython2",
   "version": "2.7.13"
  }
 },
 "nbformat": 4,
 "nbformat_minor": 2
}
